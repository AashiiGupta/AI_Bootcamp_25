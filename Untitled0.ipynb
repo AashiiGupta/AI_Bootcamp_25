{
  "nbformat": 4,
  "nbformat_minor": 0,
  "metadata": {
    "colab": {
      "provenance": []
    },
    "kernelspec": {
      "name": "python3",
      "display_name": "Python 3"
    },
    "language_info": {
      "name": "python"
    }
  },
  "cells": [
    {
      "cell_type": "code",
      "source": [],
      "metadata": {
        "id": "y0J2dLa7WzGr"
      },
      "execution_count": null,
      "outputs": []
    },
    {
      "cell_type": "code",
      "source": [
        "num1 = int(input(\"enter 1 number\"))\n",
        "num2 = int(input(\"enter 2 number\"))\n",
        "op = input(\"enter operation(+,-,*,/,%)\")\n",
        "if op == \"+\":\n",
        "  print(num1+num2)\n",
        "elif op == \"-\":\n",
        "  print(num1-num2)\n",
        "elif op == \"*\":\n",
        "  print(num1*num2)\n",
        "elif op == \"/\":\n",
        "  print(num1/num2)\n",
        "elif op == \"%\":\n",
        "  print(num1%num2)\n"
      ],
      "metadata": {
        "colab": {
          "base_uri": "https://localhost:8080/"
        },
        "id": "_wZ15KxuMcCT",
        "outputId": "7062deb6-2c1f-4662-9125-edb9b4188861"
      },
      "execution_count": 7,
      "outputs": [
        {
          "output_type": "stream",
          "name": "stdout",
          "text": [
            "enter 1 number12\n",
            "enter 2 number2\n",
            "enter operation(+,-,*,/,%)/\n",
            "6.0\n"
          ]
        }
      ]
    },
    {
      "cell_type": "code",
      "source": [],
      "metadata": {
        "id": "v0snY2MIMask"
      },
      "execution_count": null,
      "outputs": []
    }
  ]
}