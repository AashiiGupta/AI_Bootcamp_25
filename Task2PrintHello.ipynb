{
  "nbformat": 4,
  "nbformat_minor": 0,
  "metadata": {
    "colab": {
      "provenance": []
    },
    "kernelspec": {
      "name": "python3",
      "display_name": "Python 3"
    },
    "language_info": {
      "name": "python"
    }
  },
  "cells": [
    {
      "cell_type": "code",
      "source": [
        "#print hello world\n",
        "print(\"Hello World! \")"
      ],
      "metadata": {
        "id": "2XFvyuOYeVpe"
      },
      "execution_count": null,
      "outputs": []
    }
  ]
}
